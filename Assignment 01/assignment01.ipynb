{
 "cells": [
  {
   "cell_type": "markdown",
   "id": "e0b79ef8-4ec9-4698-bb66-b3fff54bf770",
   "metadata": {},
   "source": [
    "# CVI620 Assignment 01\n",
    "\n",
    "- **Name:** Aryan Khurana\n",
    "- **Section:** NZA\n",
    "- **Date:** 22 September 2024"
   ]
  },
  {
   "cell_type": "markdown",
   "id": "6252892a-de45-46f6-9c86-d6815b8f45bb",
   "metadata": {},
   "source": [
    "## Part I: A photo booth application"
   ]
  },
  {
   "cell_type": "code",
   "execution_count": 1,
   "id": "e2df71ab-cf69-4a29-a974-0cb99434848b",
   "metadata": {},
   "outputs": [],
   "source": [
    "import cv2 as cv\n",
    "import os"
   ]
  },
  {
   "cell_type": "code",
   "execution_count": 2,
   "id": "2a140e57-798b-4f50-ab3d-74c427ab594f",
   "metadata": {},
   "outputs": [
    {
     "name": "stderr",
     "output_type": "stream",
     "text": [
      "2024-09-21 22:39:27.728 python[32549:170531] +[IMKClient subclass]: chose IMKClient_Legacy\n",
      "2024-09-21 22:39:27.728 python[32549:170531] +[IMKInputSession subclass]: chose IMKInputSession_Legacy\n"
     ]
    }
   ],
   "source": [
    "# Create a directory to save images if it doesn't exist\n",
    "if not os.path.exists('snapshots'):\n",
    "    os.makedirs('snapshots')\n",
    "\n",
    "# Use the cv library to access the webcam\n",
    "webcam = cv.VideoCapture(0)\n",
    "\n",
    "image_counter = 1\n",
    "\n",
    "# Reusable styling for rectangles\n",
    "rect_thickness = 4\n",
    "rect_line_type = cv.LINE_4\n",
    "\n",
    "# Reusable styling for text\n",
    "font_face = cv.FONT_HERSHEY_SIMPLEX\n",
    "font_scale = 1\n",
    "text_color = (0, 255, 0)\n",
    "text_thickness = 2\n",
    "\n",
    "# Text properties\n",
    "text = \"Press Q to stop recording.\"\n",
    "\n",
    "# Set up a named window with a fixed size\n",
    "cv.namedWindow('Webcam Video', cv.WINDOW_NORMAL)\n",
    "cv.resizeWindow('Webcam Video', 800, 600)  # Set the desired window size\n",
    "\n",
    "while True:\n",
    "\n",
    "    # Get the tuple from webcam.read() stating if the frame was captured and the frame returned\n",
    "    is_frame_captured, frame = webcam.read()\n",
    "\n",
    "    # Exit the loop if the video frame wasn't captured\n",
    "    if not is_frame_captured:\n",
    "        break\n",
    "\n",
    "    # Get the frame dimensions\n",
    "    frame_height, frame_width = frame.shape[:2]\n",
    "\n",
    "    # Dynamically calculate the text position (10% from the top of the frame)\n",
    "    text_position = (10, int(frame_height * 0.08))\n",
    "\n",
    "    # Calculate text size and adjust the position to avoid text clipping\n",
    "    (text_width, text_height), _ = cv.getTextSize(text, font_face, font_scale, text_thickness)\n",
    "    if text_position[1] + text_height > frame_height:\n",
    "        text_position = (text_position[0], frame_height - text_height)\n",
    "\n",
    "    # Add the text to the frame\n",
    "    image = cv.putText(frame, text, text_position, font_face, font_scale, text_color, text_thickness, rect_line_type)\n",
    "\n",
    "    # Show the video frame\n",
    "    cv.imshow('Webcam Video', frame)\n",
    "\n",
    "    # Define what the image's name should be\n",
    "    image_filename = f'snapshots/image{image_counter}.jpg'\n",
    "\n",
    "    # Save the current frame as an image\n",
    "    cv.imwrite(image_filename, frame)\n",
    "\n",
    "    # Increase the image count\n",
    "    image_counter += 1\n",
    "\n",
    "    # Press 'q' to quit\n",
    "    if cv.waitKey(20) & 0xFF == ord('q'):\n",
    "        break\n",
    "\n",
    "# Release the webcam and destroy all windows\n",
    "webcam.release()\n",
    "cv.destroyAllWindows()\n"
   ]
  },
  {
   "cell_type": "markdown",
   "id": "86eac6e7-624d-4e71-859b-fad9232e479a",
   "metadata": {},
   "source": [
    "## Part II: Image Arithmetic\n",
    "\n",
    "**a. Brighness and Contrast**"
   ]
  },
  {
   "cell_type": "code",
   "execution_count": 3,
   "id": "48816cf9-887f-4ccd-8207-cf813f195993",
   "metadata": {},
   "outputs": [],
   "source": [
    "import cv2 as cv\n",
    "import numpy as np"
   ]
  },
  {
   "cell_type": "code",
   "execution_count": 4,
   "id": "86364452-8dbb-4104-be08-e71eae5b05b3",
   "metadata": {},
   "outputs": [
    {
     "name": "stderr",
     "output_type": "stream",
     "text": [
      "2024-09-21 22:42:10.259 python[36131:186529] +[IMKClient subclass]: chose IMKClient_Legacy\n",
      "2024-09-21 22:42:10.259 python[36131:186529] +[IMKInputSession subclass]: chose IMKInputSession_Legacy\n"
     ]
    }
   ],
   "source": [
    "# Load a color image \n",
    "image_path = './images/image01.jpg'\n",
    "image = cv.imread(image_path)\n",
    "\n",
    "# Check if the image was loaded successfully\n",
    "if image is None:\n",
    "    print(\"Error: Could not load image.\")\n",
    "else:\n",
    "    # Display the original image\n",
    "    cv.imshow('Original Image', image)\n",
    "    \n",
    "    # Increase brightness by adding a constant (150) to all color channels\n",
    "    bright_image = cv.add(image, (150, 150, 150, 0))  # Add to B, G, R channels. Do not add anything to transparency\n",
    "    cv.imshow('Brightened Image', bright_image)  # Display the brightened image\n",
    "\n",
    "    # Change contrast by multiplying the image by a constant (0.5)\n",
    "    contrast_image = cv.multiply(image, np.array([0.5, 0.5, 0.5, 0]))  # Scale B, G, R channels\n",
    "    cv.imshow('Contrast Image', contrast_image)  # Display the contrast-adjusted image\n",
    "\n",
    "    # Wait for a key press and close all windows\n",
    "    cv.waitKey(0)\n",
    "    cv.destroyAllWindows()\n"
   ]
  },
  {
   "cell_type": "markdown",
   "id": "a2486e64-38d9-42d6-b360-91cc7998cd0f",
   "metadata": {},
   "source": [
    "**b. Linear Blend**"
   ]
  },
  {
   "cell_type": "code",
   "execution_count": 1,
   "id": "f611c466-dca6-47a2-9ecd-4a4cef8d5097",
   "metadata": {},
   "outputs": [
    {
     "name": "stdin",
     "output_type": "stream",
     "text": [
      "Enter alpha (a number between 0 and 1):  0.7\n"
     ]
    },
    {
     "name": "stderr",
     "output_type": "stream",
     "text": [
      "2024-09-21 22:56:12.577 python[43109:219500] +[IMKClient subclass]: chose IMKClient_Legacy\n",
      "2024-09-21 22:56:12.578 python[43109:219500] +[IMKInputSession subclass]: chose IMKInputSession_Legacy\n"
     ]
    }
   ],
   "source": [
    "import cv2 as cv\n",
    "\n",
    "# Load two images\n",
    "img1 = cv.imread('./images/image01.jpg') \n",
    "img2 = cv.imread('./images/image02.jpg')  \n",
    "\n",
    "# Resize the second image to match the first image dimensions\n",
    "if img1.shape != img2.shape:\n",
    "    img2 = cv.resize(img2, (img1.shape[1], img1.shape[0]))\n",
    "\n",
    "# Display the two original images\n",
    "cv.imshow('First Image', img1)\n",
    "cv.imshow('Second Image', img2)\n",
    "\n",
    "# Ask the user for an alpha value between 0 and 1\n",
    "alpha = float(input(\"Enter alpha (a number between 0 and 1): \"))\n",
    "\n",
    "# Make sure the alpha value is within the correct range\n",
    "if alpha < 0 or alpha > 1:\n",
    "    raise ValueError(\"Alpha value must be between 0 and 1\")\n",
    "\n",
    "# Perform the linear blend\n",
    "blended_image = cv.addWeighted(img1, 1 - alpha, img2, alpha, 0)\n",
    "\n",
    "# Display the blended image\n",
    "cv.imshow('Blended Image', blended_image)\n",
    "\n",
    "# Wait for a key press to close the windows\n",
    "cv.waitKey(0)\n",
    "cv.destroyAllWindows()"
   ]
  },
  {
   "cell_type": "markdown",
   "id": "34a588a1-ad6c-442f-b0b8-883fcb94741f",
   "metadata": {},
   "source": [
    "## Part III: A Drawing Application\n",
    "\n",
    "1.1. Create a program to draw green rectangles  on a image with thickness is 4. "
   ]
  },
  {
   "cell_type": "code",
   "execution_count": 17,
   "id": "e65056e1-b019-4935-9c31-8734d8aadc82",
   "metadata": {},
   "outputs": [],
   "source": [
    "import cv2 as cv\n",
    "\n",
    "image = cv.imread('./images/image01.jpg') \n",
    "\n",
    "# Define rectangle properties\n",
    "top_left = (400, 250)   # Starting point (x, y)\n",
    "bottom_right = (450, 300)  # Ending point (x, y)\n",
    "color = (0, 255, 0)  # Green color in BGR format\n",
    "thickness = 4  # Thickness of the rectangle border\n",
    "\n",
    "# Draw the rectangle\n",
    "cv.rectangle(image, top_left, bottom_right, color, thickness)\n",
    "\n",
    "# Display the image\n",
    "cv.imshow('Image with Rectangle', image)\n",
    "cv.waitKey(0)\n",
    "cv.destroyAllWindows()\n"
   ]
  },
  {
   "cell_type": "markdown",
   "id": "03014bf1-dfa0-4cc2-b8c0-4557ed2ed47c",
   "metadata": {},
   "source": [
    "1.2. Change thickness to -1. What do you notice? Explain."
   ]
  },
  {
   "cell_type": "code",
   "execution_count": 13,
   "id": "08b86a47-8ba0-4ae7-95b8-6053d28672e2",
   "metadata": {},
   "outputs": [],
   "source": [
    "thickness = -1 \n",
    "cv.rectangle(image, top_left, bottom_right, color, thickness)\n",
    "cv.imshow('Image with Rectangle', image)\n",
    "cv.waitKey(0)\n",
    "cv.destroyAllWindows()"
   ]
  },
  {
   "cell_type": "markdown",
   "id": "1d0474b9-adb0-4fd9-be30-18d4c19a1b70",
   "metadata": {},
   "source": [
    "After changing the thickness to `-1`, instead of having a border, the rectangle is now filled with green color."
   ]
  },
  {
   "cell_type": "markdown",
   "id": "394f42be-7bd9-47fa-814f-5fdcaa2ac5f8",
   "metadata": {},
   "source": [
    "1.3. Create a program to write text on a Rectangle on an image"
   ]
  },
  {
   "cell_type": "code",
   "execution_count": 16,
   "id": "0f970aa5-0563-4f9a-b6c2-6be3d986abad",
   "metadata": {},
   "outputs": [],
   "source": [
    "import cv2 as cv\n",
    "\n",
    "# Load the image\n",
    "image = cv.imread('./images/image01.jpg')  # Replace with your image path\n",
    "\n",
    "# Define rectangle properties\n",
    "top_left = (50, 50)   # Starting point (x, y)\n",
    "bottom_right = (300, 150)  # Ending point (x, y)\n",
    "color = (0, 255, 0)  # Green color in BGR format\n",
    "thickness = -1  # Fill the rectangle with the color\n",
    "\n",
    "# Draw the rectangle\n",
    "cv.rectangle(image, top_left, bottom_right, color, thickness)\n",
    "\n",
    "# Define text properties\n",
    "text = \"Hello World!\"\n",
    "text_position = (60, 120)  # Position for the text (x, y)\n",
    "font = cv.FONT_HERSHEY_SIMPLEX  # Font type\n",
    "font_scale = 1  # Font size\n",
    "text_color = (0, 0, 0)  # White text color\n",
    "text_thickness = 2  # Text thickness\n",
    "\n",
    "# Add text to the image\n",
    "cv.putText(image, text, text_position, font, font_scale, text_color, text_thickness)\n",
    "\n",
    "# Display the image\n",
    "cv.imshow('Image with Text on Rectangle', image)\n",
    "cv.waitKey(0)\n",
    "cv.destroyAllWindows()\n"
   ]
  },
  {
   "cell_type": "markdown",
   "id": "b8562df3-711a-4c01-9f11-f80abd2f836d",
   "metadata": {},
   "source": [
    "## Part IV: Group Work\n",
    "\n",
    "We, Peter Wan, Mimi Dang, Jeremy Lee, and Aryan Khurana, declare that the attached assignment is our own work in accordance with the Seneca Academic Policy. We have not copied any part of this assignment, manually or electronically, from any other source including web sites, unless specified as references. We have not distributed our work to other students.\n",
    "\n",
    "| Name              | Task(s)                  |\n",
    "| ----------------- | ------------------------ |\n",
    "| **Aryan Khurana** | Contributed to all tasks |\n",
    "| **Peter Wan**     | Contributed to all tasks |\n",
    "| **Mimi Dang**     | Contributed to all tasks |\n",
    "| **Jeremy Lee**    | Contributed to all tasks |"
   ]
  },
  {
   "cell_type": "code",
   "execution_count": null,
   "id": "fc15393a-e142-46f2-bb66-6cd02301fa3c",
   "metadata": {},
   "outputs": [],
   "source": []
  }
 ],
 "metadata": {
  "kernelspec": {
   "display_name": "Python 3 (ipykernel)",
   "language": "python",
   "name": "python3"
  },
  "language_info": {
   "codemirror_mode": {
    "name": "ipython",
    "version": 3
   },
   "file_extension": ".py",
   "mimetype": "text/x-python",
   "name": "python",
   "nbconvert_exporter": "python",
   "pygments_lexer": "ipython3",
   "version": "3.12.5"
  }
 },
 "nbformat": 4,
 "nbformat_minor": 5
}
