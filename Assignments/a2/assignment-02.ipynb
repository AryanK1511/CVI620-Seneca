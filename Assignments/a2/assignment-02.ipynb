{
 "cells": [
  {
   "cell_type": "markdown",
   "metadata": {},
   "source": [
    "# CVI620 Assignment 01"
   ]
  },
  {
   "cell_type": "markdown",
   "metadata": {},
   "source": [
    "## Academic Integrity Declaration:\n",
    "\n",
    "We, `Group 2`, (Mimi Dang, Peter Wan, Aryan Khurana, Jeremy Lee), declare that the attached assignment is our own work in accordance with the Seneca Academic Policy.  We have not copied any part of this assignment, manually or electronically, from any other source including web sites, unless specified as references. We have not distributed our work to other students."
   ]
  },
  {
   "cell_type": "markdown",
   "metadata": {},
   "source": [
    "## Step 1: Read and Pre-process the Image:\n",
    "\n",
    "Choose a photo of your choice and load it into your Python script using the cv2.imread() function.\n",
    "Resize the image if necessary, to ensure that it fits well on the screen."
   ]
  },
  {
   "cell_type": "code",
   "execution_count": 7,
   "metadata": {},
   "outputs": [],
   "source": [
    "# Importing necessary libraries\n",
    "import cv2 as cv  # OpenCV library for image processing\n",
    "import numpy as np  # NumPy library for numerical operations (though not used in this code)\n",
    "\n",
    "# Read image from file\n",
    "peter_image = cv.imread('images/face-1.jpeg')\n",
    "aryan_image = cv.imread('images/face-2.png')\n",
    "mimi_image = cv.imread('images/face-3.jpg')\n",
    "jeremy_image = cv.imread('images/face-4.jpg')\n",
    "\n",
    "# Common Image Dimensions\n",
    "width = 320\n",
    "height = 400\n",
    "image_dimensions = (width, height)\n",
    "\n",
    "# Resize all 4 images\n",
    "peter_image_resized = cv.resize(peter_image, image_dimensions)\n",
    "mimi_image_resized = cv.resize(mimi_image, image_dimensions)\n",
    "jeremy_image_resized = cv.resize(jeremy_image, image_dimensions)\n",
    "aryan_image_resized = cv.resize(aryan_image, image_dimensions)\n",
    "\n",
    "cv.imshow('peter_image_resized', peter_image_resized)\n",
    "cv.imshow('mimi_image_resized', mimi_image_resized)\n",
    "cv.imshow('jeremy_image_resized', jeremy_image_resized)\n",
    "cv.imshow('aryan_image_resized', aryan_image_resized)\n",
    "\n",
    "# Move this down as we go...\n",
    "cv.waitKey(0)\n",
    "cv.destroyAllWindows()"
   ]
  },
  {
   "cell_type": "markdown",
   "metadata": {},
   "source": [
    "## Step 2: Removing impurities from image and apply Smoothing Using Edge-Preserving Filter"
   ]
  },
  {
   "cell_type": "code",
   "execution_count": 8,
   "metadata": {},
   "outputs": [],
   "source": [
    "# Define a function which lets us apply the median blur effect multiple times on an image\n",
    "def applyMedianBlur(base_image, kernel_size, iterations):\n",
    "  new_image = base_image\n",
    "\n",
    "  for _ in range(0, iterations):\n",
    "    new_image = cv.medianBlur(new_image, kernel_size)\n",
    "\n",
    "  return new_image\n",
    "\n",
    "# Apply the medianBlur effect with a kernel size of 3, to each resized image, 4 times\n",
    "peter_clear_image = applyMedianBlur(base_image=peter_image_resized, kernel_size=3, iterations=4)\n",
    "jeremy_clear_image = applyMedianBlur(base_image=jeremy_image_resized, kernel_size=3, iterations=4)\n",
    "mimi_clear_image = applyMedianBlur(base_image=mimi_image_resized, kernel_size=3, iterations=4)\n",
    "aryan_clear_image = applyMedianBlur(base_image=aryan_image_resized, kernel_size=3, iterations=4)\n",
    "\n",
    "cv.imshow('peter_clear_image', peter_clear_image)\n",
    "cv.imshow('jeremy_clear_image', jeremy_clear_image)\n",
    "cv.imshow('mimi_clear_image', mimi_clear_image)\n",
    "cv.imshow('aryan_clear_image', aryan_clear_image)\n",
    "\n",
    "# Applying edge-preserving filter\n",
    "# sigma_s controls the size of the neighborhood. Larger values affect larger areas.\n",
    "# Increasing sigma_s will create a more painterly effect but may lose some details\n",
    "peter_edge_preserve_filter = cv.edgePreservingFilter(peter_clear_image, sigma_s=5)\n",
    "mimi_edge_preserve_filter = cv.edgePreservingFilter(mimi_clear_image, sigma_s=5)\n",
    "jeremy_edge_preserve_filter = cv.edgePreservingFilter(jeremy_clear_image, sigma_s=5)\n",
    "aryan_edge_preserve_filter = cv.edgePreservingFilter(aryan_clear_image, sigma_s=5)\n",
    "\n",
    "cv.imshow('peter_edge_preserve_filter', peter_edge_preserve_filter)\n",
    "cv.imshow('mimi_edge_preserve_filter', mimi_edge_preserve_filter)\n",
    "cv.imshow('jeremy_edge_preserve_filter', jeremy_edge_preserve_filter)\n",
    "cv.imshow('aryan_edge_preserve_filter', aryan_edge_preserve_filter)\n",
    "\n",
    "cv.waitKey(0)\n",
    "cv.destroyAllWindows()"
   ]
  },
  {
   "cell_type": "markdown",
   "metadata": {},
   "source": [
    "## Step 3: Combine the Effects to Create a Watercolor Look"
   ]
  },
  {
   "cell_type": "code",
   "execution_count": 9,
   "metadata": {},
   "outputs": [],
   "source": [
    "def applyBilateralFilter(base_image, diameter, sigma_colour, sigma_space, iterations):\n",
    "  bilateral_image = base_image\n",
    "\n",
    "  for _ in range(0, iterations):\n",
    "    bilateral_image = cv.bilateralFilter(bilateral_image, diameter, sigma_colour, sigma_space)\n",
    "\n",
    "  return bilateral_image\n",
    "\n",
    "peter_bilateral_filter_image = applyBilateralFilter(peter_edge_preserve_filter, 3, 10, 5, 2)\n",
    "mimi_bilateral_filter_image = applyBilateralFilter(mimi_edge_preserve_filter, 3, 10, 5, 3)\n",
    "jeremy_bilateral_filter_image = applyBilateralFilter(jeremy_edge_preserve_filter, 3, 10, 5, 2)\n",
    "aryan_bilateral_filter_image = applyBilateralFilter(aryan_edge_preserve_filter, 3, 10, 5, 3)\n",
    "\n",
    "cv.imshow('peter_bilateral_filter_image', peter_bilateral_filter_image)\n",
    "cv.imshow('mimi_bilateral_filter_image', mimi_bilateral_filter_image)\n",
    "cv.imshow('jeremy_bilateral_filter_image', jeremy_bilateral_filter_image)\n",
    "cv.imshow('aryan_bilateral_filter_image', aryan_bilateral_filter_image)\n",
    "\n",
    "cv.waitKey(0)\n",
    "cv.destroyAllWindows()"
   ]
  },
  {
   "cell_type": "markdown",
   "metadata": {},
   "source": [
    "## Step 4: Tune the Art\n",
    "\n",
    "(Tuning may include sharpening, dehazing, contrast enhancement etc )"
   ]
  },
  {
   "cell_type": "code",
   "execution_count": 10,
   "metadata": {},
   "outputs": [],
   "source": [
    "# Common settings used when we apply the GaussianBlur to each Image\n",
    "kernel_size = (7,7)\n",
    "standard_deviation_in_x_y = 2 \n",
    "\n",
    "# Apply the GaussianBlur to each bilaterally filtered image\n",
    "peter_gaussian_mask = cv.GaussianBlur(peter_bilateral_filter_image, kernel_size, standard_deviation_in_x_y)\n",
    "mimi_gaussian_mask = cv.GaussianBlur(mimi_bilateral_filter_image, kernel_size, standard_deviation_in_x_y)\n",
    "jeremy_gaussian_mask = cv.GaussianBlur(jeremy_bilateral_filter_image, kernel_size, standard_deviation_in_x_y)\n",
    "aryan_gaussian_mask = cv.GaussianBlur(aryan_bilateral_filter_image, kernel_size, standard_deviation_in_x_y)\n",
    "\n",
    "cv.imshow('peter_gaussian_mask', peter_gaussian_mask)\n",
    "cv.imshow('mimi_bilateral_filter_image', mimi_bilateral_filter_image)\n",
    "cv.imshow('jeremy_bilateral_filter_image', jeremy_bilateral_filter_image)\n",
    "cv.imshow('aryan_bilateral_filter_image', aryan_bilateral_filter_image)\n",
    "\n",
    "peter_image_sharp = cv.addWeighted(peter_bilateral_filter_image, 1.5, peter_gaussian_mask, -0.5, 0)\n",
    "mimi_image_sharp = cv.addWeighted(mimi_bilateral_filter_image, 1.5, mimi_gaussian_mask, -0.5, 0)\n",
    "jeremy_image_sharp = cv.addWeighted(jeremy_bilateral_filter_image, 1.5, jeremy_gaussian_mask, -0.5, 0)\n",
    "aryan_image_sharp = cv.addWeighted(aryan_bilateral_filter_image, 1.5, aryan_gaussian_mask, -0.5, 0)\n",
    "\n",
    "mimi_image_sharp = cv.addWeighted(mimi_bilateral_filter_image, 1.4, mimi_gaussian_mask, -0.2, 0)\n",
    "aryan_image_sharp = cv.addWeighted(aryan_bilateral_filter_image, 1.4, aryan_gaussian_mask, -0.2, 0)\n",
    "\n",
    "vertically_stacked_filtered_images_1 = np.vstack((peter_image_sharp, mimi_image_sharp))\n",
    "img_vertical_stacked_2 = np.vstack((aryan_image_sharp, jeremy_image_sharp))\n",
    "\n",
    "img_horizontal_stacked = np.hstack((vertically_stacked_filtered_images_1, img_vertical_stacked_2))\n",
    "\n",
    "vertical_stacked_resized_images_1 = np.vstack((peter_image_resized, mimi_image_resized))\n",
    "vertical_stacked_resized_images_2 = np.vstack((aryan_image_resized, jeremy_image_resized))\n",
    "horizontal_resized_stacked_1 = np.hstack((vertical_stacked_resized_images_1, vertical_stacked_resized_images_2))\n",
    "horizontal_resized_stacked_2 = np.hstack((horizontal_resized_stacked_1, img_horizontal_stacked))\n",
    "\n",
    "cv.imshow('Water Colored Images', horizontal_resized_stacked_2)\n",
    "\n",
    "cv.waitKey(0)\n",
    "cv.destroyAllWindows()"
   ]
  },
  {
   "cell_type": "markdown",
   "metadata": {},
   "source": [
    "## Step 5: Display and Save the Result:\n",
    "\n",
    "Display both the original image and the final watercolor-style image using cv2.imshow().\n",
    "Save the output image using cv2.imwrite()."
   ]
  },
  {
   "cell_type": "markdown",
   "metadata": {},
   "source": [
    "## Submission Requirements\n",
    "\n",
    "Submit your Python script (.py file) and pdf file with the completed code.\n",
    "Include the original photo and the generated watercolor-style artwork (.jpg or .png format).\n",
    "Write a short report (200-300 words) describing the approach, parameters used, and observations made during the process."
   ]
  },
  {
   "cell_type": "markdown",
   "metadata": {},
   "source": []
  }
 ],
 "metadata": {
  "kernelspec": {
   "display_name": "socv",
   "language": "python",
   "name": "python3"
  },
  "language_info": {
   "codemirror_mode": {
    "name": "ipython",
    "version": 3
   },
   "file_extension": ".py",
   "mimetype": "text/x-python",
   "name": "python",
   "nbconvert_exporter": "python",
   "pygments_lexer": "ipython3",
   "version": "3.8.19"
  }
 },
 "nbformat": 4,
 "nbformat_minor": 2
}
