{
 "cells": [
  {
   "cell_type": "markdown",
   "id": "557cd79d-3db7-41c7-b8e9-9a1f2b2cab04",
   "metadata": {},
   "source": [
    "# OpenCV Basics\n",
    "\n",
    "Computer vision is a field of artificial intelligence (AI) that uses machine learning and neural networks to teach computers and systems to derive meaningful information from digital images, videos and other visual inputs"
   ]
  },
  {
   "cell_type": "code",
   "execution_count": 1,
   "id": "4dc59625-dd06-4825-a1e7-8630ed75d197",
   "metadata": {},
   "outputs": [],
   "source": [
    "import cv2 as cv"
   ]
  },
  {
   "cell_type": "code",
   "execution_count": null,
   "id": "e9636290-609a-4601-a930-a81aee5655a7",
   "metadata": {},
   "outputs": [],
   "source": [
    "img = cv.imread('photos/test_image.jpg')"
   ]
  },
  {
   "cell_type": "code",
   "execution_count": null,
   "id": "0633bb6e-3862-44d9-983e-cc8759486cbe",
   "metadata": {},
   "outputs": [],
   "source": [
    "cv.imshow('Image', img)\n",
    "while True:\n",
    "    key = cv.waitKey(0)\n",
    "    if key in [27, ord('q'), ord('Q')]:\n",
    "        cv.destroyAllWindows()"
   ]
  },
  {
   "cell_type": "code",
   "execution_count": 2,
   "id": "8dee3284-d509-431a-bf06-80912faec674",
   "metadata": {},
   "outputs": [],
   "source": [
    "capture = cv.VideoCapture('videos/test_video.mp4')\n",
    "\n",
    "while True:\n",
    "    isTrue, frame = capture.read()\n",
    "    cv.imshow('Video', frame)\n",
    "\n",
    "    if cv.waitKey(20) & 0xFF==ord('d'):\n",
    "        break\n",
    "\n",
    "cv.destroyAllWindows()\n",
    "capture.release()"
   ]
  },
  {
   "cell_type": "code",
   "execution_count": null,
   "id": "55750b0b-ed08-4f3d-81a9-39f0cb86586e",
   "metadata": {},
   "outputs": [],
   "source": []
  }
 ],
 "metadata": {
  "kernelspec": {
   "display_name": "Python 3 (ipykernel)",
   "language": "python",
   "name": "python3"
  },
  "language_info": {
   "codemirror_mode": {
    "name": "ipython",
    "version": 3
   },
   "file_extension": ".py",
   "mimetype": "text/x-python",
   "name": "python",
   "nbconvert_exporter": "python",
   "pygments_lexer": "ipython3",
   "version": "3.11.9"
  }
 },
 "nbformat": 4,
 "nbformat_minor": 5
}
