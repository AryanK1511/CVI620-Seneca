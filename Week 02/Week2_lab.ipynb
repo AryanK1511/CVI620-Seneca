{
 "cells": [
  {
   "cell_type": "code",
   "execution_count": 3,
   "id": "60f9d228-aca5-445b-a8dc-aa740d2d3d5c",
   "metadata": {},
   "outputs": [
    {
     "name": "stdout",
     "output_type": "stream",
     "text": [
      "Collecting opencv-python\n",
      "  Downloading opencv_python-4.10.0.84-cp37-abi3-win_amd64.whl (38.8 MB)\n",
      "     --------------------------------------- 38.8/38.8 MB 28.5 MB/s eta 0:00:00\n",
      "Requirement already satisfied: numpy>=1.19.3 in c:\\users\\savita seharawat\\anaconda3\\lib\\site-packages (from opencv-python) (1.24.2)\n",
      "Installing collected packages: opencv-python\n",
      "Successfully installed opencv-python-4.10.0.84\n",
      "Note: you may need to restart the kernel to use updated packages.\n"
     ]
    }
   ],
   "source": [
    "pip install opencv-python\n"
   ]
  },
  {
   "cell_type": "code",
   "execution_count": 1,
   "id": "b9bedca3-d7ac-48f5-bda7-74599a003c38",
   "metadata": {},
   "outputs": [],
   "source": [
    "import numpy as np\n",
    "import matplotlib\n",
    "import cv2 as cv"
   ]
  },
  {
   "cell_type": "code",
   "execution_count": 3,
   "id": "371d98f6-6d43-484d-8571-27761850984a",
   "metadata": {},
   "outputs": [
    {
     "data": {
      "text/plain": [
       "(1707, 2560, 3)"
      ]
     },
     "execution_count": 3,
     "metadata": {},
     "output_type": "execute_result"
    }
   ],
   "source": [
    "image = cv.imread(\"C:\\\\Users\\\\Savita Seharawat\\\\Desktop\\\\fulhaus\\\\Pizza.jpg\")\n",
    "# image.shape\n",
    "# Using namedWindow() \n",
    "# A window with 'Display' name is created \n",
    "# with WINDOW_AUTOSIZE, window size is set automatically \n",
    "cv.namedWindow(\"Pizza\", cv.WINDOW_AUTOSIZE) \n",
    "  \n",
    "# using cv2.imshow() to display the image \n",
    "cv.imshow('Pizza', image) \n",
    "  \n",
    "# Waiting 0ms for user to press any key \n",
    "cv.waitKey(0) \n",
    "  \n",
    "# Using cv2.destroyAllWindows() to destroy \n",
    "# all created windows open on screen \n",
    "cv.destroyAllWindows() \n"
   ]
  },
  {
   "cell_type": "code",
   "execution_count": 7,
   "id": "58cdf529-9923-44da-947f-943dd0d06b60",
   "metadata": {},
   "outputs": [],
   "source": [
    "image = cv.imread(\"C:\\\\Users\\\\Savita Seharawat\\\\Desktop\\\\fulhaus\\\\Pizza.jpg\")\n",
    "image_2 = cv.resize(image,(800,400))\n",
    "# Using namedWindow() \n",
    "# A window with 'Display' name is created \n",
    "# with WINDOW_AUTOSIZE, window size is set automatically \n",
    "cv.namedWindow(\"Pizza\", cv.WINDOW_AUTOSIZE) \n",
    "  \n",
    "# using cv2.imshow() to display the image \n",
    "cv.imshow('Pizza', image_2) \n",
    "  \n",
    "# Waiting 0ms for user to press any key \n",
    "cv.waitKey(0) \n",
    "  \n",
    "# Using cv2.destroyAllWindows() to destroy \n",
    "# all created windows open on screen \n",
    "cv.destroyAllWindows() "
   ]
  },
  {
   "cell_type": "code",
   "execution_count": 3,
   "id": "ea83d807-2d0a-40d6-8293-e502dd5d64e0",
   "metadata": {},
   "outputs": [],
   "source": [
    "import os"
   ]
  },
  {
   "cell_type": "code",
   "execution_count": 9,
   "id": "5cf56be0-d8c0-4820-aa2d-3438cadb18ca",
   "metadata": {},
   "outputs": [],
   "source": [
    "path = \"C:\\\\Users\\\\Savita Seharawat\\\\Desktop\\\\cvi620\\\\week 2\\\\Bed\""
   ]
  },
  {
   "cell_type": "code",
   "execution_count": 12,
   "id": "9e8c4ebc-d10d-4447-8587-377195d17f86",
   "metadata": {},
   "outputs": [
    {
     "data": {
      "text/plain": [
       "['120cm Bed with underbed drawer.jpg',\n",
       " '140 cm double bed.jpg',\n",
       " '160 cm kingsize bed.jpg',\n",
       " '180 cm super kingsize bed.jpg',\n",
       " '90cm Bed with underbed drawer.jpg']"
      ]
     },
     "execution_count": 12,
     "metadata": {},
     "output_type": "execute_result"
    }
   ],
   "source": [
    "img_names = os.listdir(path)\n",
    "img_names[0:5]"
   ]
  },
  {
   "cell_type": "code",
   "execution_count": 13,
   "id": "b8527484-d22d-431c-9ace-a8983e6f5e0e",
   "metadata": {
    "collapsed": true,
    "jupyter": {
     "outputs_hidden": true
    },
    "tags": []
   },
   "outputs": [
    {
     "name": "stdout",
     "output_type": "stream",
     "text": [
      "120cm Bed with underbed drawer.jpg\n",
      "140 cm double bed.jpg\n",
      "160 cm kingsize bed.jpg\n",
      "180 cm super kingsize bed.jpg\n",
      "90cm Bed with underbed drawer.jpg\n",
      "Addison King Bed.jpg\n",
      "Aidan Bed-Heavy Pebble Pewter-Queen.jpg\n",
      "Aidan Bed-Vintage Tobacco-King.jpg\n",
      "Aidan King Bed-Pebble Pewter.jpg\n",
      "Aiden Velvet Bed.jpg\n",
      "ALBI BED.jpg\n",
      "Alexander Queen Bed.jpg\n",
      "Alina Full Platform Bed Frame.jpg\n",
      "Alina Queen Platform Bed Frame.jpg\n",
      "Alina Twin Platform Bed Frame.jpg\n",
      "Amaris Full Fabric Platform Bed with Round Splayed Legs.jpg\n",
      "Amaris King Fabric Platform Bed with Squared Tapered Legs.jpg\n",
      "Amaris Queen Fabric Platform Bed with Round Splayed Legs.jpg\n",
      "Amaris Queen Fabric Platform Bed with Squared Tapered Legs in Gray _ Modway.jpg\n",
      "Amaris Queen Fabric Platform Bed with Squared Tapered Legs.jpg\n",
      "Amaris Twin Fabric Platform Bed with Round Splayed Legs.jpg\n",
      "Amaris Twin Fabric Platform Bed with Squared Tapered Legs.jpg\n",
      "Amelia Full Upholstered Fabric Bed.jpg\n",
      "Amelia King Performance Velvet Bed.jpg\n",
      "Amelia King Upholstered Fabric Bed.jpg\n",
      "Amelia Queen Faux Leather Bed.jpg\n",
      "Amelia Queen Upholstered Bed.jpg\n",
      "Amelia Queen Upholstered Fabric Bed.jpg\n",
      "Amelia Twin Faux Leather Bed.jpg\n",
      "Amelia Twin Performance Velvet Bed.jpg\n",
      "Amelie Bed King Black.jpg\n",
      "Amelie Bed King White.jpg\n",
      "Amelie Bed Queen White.jpg\n",
      "Amelie Full Bed Black.jpg\n",
      "Amelie Full Bed Gray.jpg\n",
      "Amelie Full Bed White.jpg\n",
      "Amelie King Bed Gray.jpg\n",
      "Amelie Queen Bed Black.jpg\n",
      "Amelie Queen Bed Gray.jpg\n",
      "Amira Full Performance Velvet Bed.jpg\n",
      "Amira Full Upholstered Fabric Bed.jpg\n",
      "Amira King Performance Velvet Bed.jpg\n",
      "Amira King Upholstered Fabric Bed.jpg\n",
      "Amira Queen Performance Velvet Bed.jpg\n",
      "Amira Queen Upholstered Fabric Bed.jpg\n",
      "Amira Twin Upholstered Fabric Bed.jpg\n",
      "Angela Blush Bed in Queen.jpg\n",
      "Annika Queen Platform Bed Annika Queen Platform Bed in Gray.jpg\n",
      "Annika Queen Platform Bed in Brown.jpg\n",
      "Annika Queen Platform Bed.jpg\n",
      "Anya Beige Queen Bed.jpg\n",
      "Anya Full Bed.jpg\n",
      "Anya Full Fabric Bed in Beige.jpg\n",
      "Anya Full Fabric Bed in Light Gray .jpg\n",
      "Anya Full Fabric Bed in Light Gray.jpg\n",
      "Anya Full Fabric Bed.jpg\n",
      "Anya Queen Bed in Gray.jpg\n",
      "Anya Queen Bed.jpg\n",
      "Anya Twin Bed.jpg\n",
      "Arwen Queen Rustic Wood Bed.jpg\n",
      "Ashland Queen Faux Leather Platform Bed.jpg\n",
      "Astra Queen Wood Platform Bed .jpg\n",
      "Aubree Grey Queen Bed.jpg\n",
      "Aubree Queen Bed.jpg\n",
      "Aubree Queen Upholstered Fabric Sleigh Platform Bed.jpg\n",
      "Aubree Queen Upholstered Platform Bed in Beige.jpg\n",
      "August King Bed.jpg\n",
      "aura.jpg\n",
      "Baxton Studio Adela Modern and Contemporary Grey Finished Wood Queen Size Platform Bed.jpg\n",
      "Baxton Studio Adela Modern and Contemporary Grey Finished Wood Twin Size Platform Bed.jpg\n",
      "Baxton Studio Adelaide Retro Modern Light Beige Fabric Upholstered Queen Size Platform Bed.jpg\n",
      "Baxton Studio Adelaide Retro Modern Light Grey Fabric Upholstered Queen Size Platform Bed.jpg\n",
      "Baxton Studio Adelia Mid-Century Light Beige Whitewash Queen Size Platform Bed.jpg\n",
      "Baxton Studio Adelie Modern Glam Light Grey Velvet Fabric Upholstered Walnut Brown Finished Wood Queen Size Wingback Platform Bed .jpg\n",
      "Baxton Studio Aden Modern and Contemporary Charcoal Grey Fabric Upholstered Full Size Bed.jpg\n",
      "Baxton Studio Aden Modern and Contemporary Grey Fabric Upholstered Queen Size Bed.jpg\n",
      "Baxton Studio Ainge Contemporary Button-Tufted Light Beige Fabric Upholstered Storage King-Size Bed with 2-drawer.jpg\n",
      "Baxton Studio Alba Modern Transitional Ash Walnut Brown Finished Wood Full Size 4-Drawer Platform Storage Bed with Built-In Shelves.jpg\n",
      "Baxton Studio Alba Modern Transitional Ash Walnut Brown Finished Wood King Size 4-Drawer Platform Storage Bed with Built-In Shelves.jpg\n",
      "Baxton Studio Alesha Modern and Contemporary Beige Fabric Upholstered Queen Size Bed.jpg\n",
      "Baxton Studio Alesha Modern and Contemporary Charcoal Grey Fabric Upholstered Queen Size Bed.jpg\n",
      "Baxton Studio Alesha Modern and Contemporary Grey Fabric Upholstered Full Size Bed.jpg\n",
      "Baxton Studio Alessia Dark Brown Faux Leather Upholstered Daybed with Guest Trundle Bed.jpg\n",
      "Baxton Studio Alessia Modern and Contemporary Beige Fabric Upholstered Daybed with Guest Trundle Bed.jpg\n",
      "Baxton Studio Alessia Modern and Contemporary Grey Fabric Upholstered Daybed with Guest Trundle Bed.jpg\n",
      "Baxton Studio Alessia White Faux Leather Upholstered Daybed with Guest Trundle Bed.jpg\n",
      "Baxton Studio Alinia Mid-century Retro Modern Grey Fabric Upholstered Walnut Wood King Size Platform Bed.jpg\n",
      "Baxton Studio Alinia Mid-century Retro Modern Light Beige Fabric Upholstered Walnut Wood King Size Platform Bed.jpg\n",
      "Baxton Studio Alke Mid-Century Modern Dark Grey Fabric Upholstered Walnut Brown Finished Wood Queen Size Platform Bed.jpg\n",
      "Baxton Studio Alke Mid-Century Modern Light Grey Fabric Upholstered Walnut Brown Finished Wood King Size Platform Bed.jpg\n",
      "Baxton Studio Allegra Mid-Century Modern Dark Grey Fabric Upholstered and Ash Walnut Brown Finished Wood King Size Platform Bed.jpg\n",
      "Baxton Studio Alya Classic Traditional Farmhouse Walnut Brown Finished Wood Twin Size Daybed with Roll-Out Trundle Bed.jpg\n",
      "Baxton Studio Alya Classic Traditional Farmhouse White Finished Wood Twin Size Daybed with Roll-Out Trundle Bed.jpg\n",
      "Baxton Studio Aneta Modern and Contemporary Grey Fabric Upholstered King Size Platform Bed.jpg\n",
      "Baxton Studio Annalisa Modern Transitional Beige Fabric Upholstered Button Tufted King Size Panel Bed.jpg\n",
      "Bed Venla 160 x 200 cm blue.jpg\n",
      "Darcy Luxe and Glamour Dark Grey Velvet Upholstered Queen Size Bed.jpg\n",
      "Makenna Queen Performance Velvet Platform Bed.jpg\n",
      "Raina Queen Canopy Bed Frame.jpg\n",
      "Shayndel Bed 150 x 190 cm.jpg\n"
     ]
    }
   ],
   "source": [
    "for image in img_names:\n",
    "    print(image)"
   ]
  },
  {
   "cell_type": "code",
   "execution_count": 14,
   "id": "3efa48fe-6dd2-493e-9f00-626937d4ae6a",
   "metadata": {},
   "outputs": [],
   "source": [
    "for image in img_names:\n",
    "    image_full_path = path + \"\\\\\" + image\n",
    "    img = cv.imread(image_full_path)\n",
    "    img = cv.resize(img,(800,400))\n",
    "    cv.imshow('Image', img) \n",
    "    cv.waitKey(0) \n",
    "cv.destroyAllWindows() \n",
    "    \n",
    "    "
   ]
  },
  {
   "cell_type": "code",
   "execution_count": 17,
   "id": "a38469b8-3a35-4dc7-843a-156a0c72f5d3",
   "metadata": {},
   "outputs": [],
   "source": [
    "for image in img_names:\n",
    "    image_full_path = path + \"\\\\\" + image\n",
    "    img = cv.imread(image_full_path)\n",
    "    img = cv.resize(img,(800,400))\n",
    "    cv.imshow('Image', img) \n",
    "    cv.waitKey(10) \n",
    "cv.destroyAllWindows() "
   ]
  },
  {
   "cell_type": "code",
   "execution_count": 23,
   "id": "7abf126e-60b7-4927-896a-a25ea6cb3b8f",
   "metadata": {},
   "outputs": [],
   "source": [
    "for image in img_names:\n",
    "    image_full_path = path + \"\\\\\" + image\n",
    "    img = cv.imread(image_full_path)\n",
    "    img = cv.resize(img,(400,400))\n",
    "    img_2 = np.hstack((img,img))\n",
    "    img_4 = np.vstack((img_2,img_2))\n",
    "    cv.imshow('Image', img_4) \n",
    "    cv.waitKey(1000) \n",
    "cv.destroyAllWindows() "
   ]
  },
  {
   "cell_type": "code",
   "execution_count": 25,
   "id": "4968e1c5-7326-4720-bbd2-6b52ffd293d9",
   "metadata": {},
   "outputs": [],
   "source": [
    "for image in img_names:\n",
    "    image_full_path = path + \"\\\\\" + image\n",
    "    img = cv.imread(image_full_path)\n",
    "    img = cv.resize(img,(300,200))\n",
    "    img_2 = np.hstack((img,img,img))\n",
    "    img_4 = np.vstack((img_2,img_2))\n",
    "    cv.imshow('Image', img_4) \n",
    "    cv.waitKey(100) \n",
    "cv.destroyAllWindows() "
   ]
  },
  {
   "cell_type": "code",
   "execution_count": 32,
   "id": "36699166-d51d-47c9-a487-b8a8b0cd909a",
   "metadata": {},
   "outputs": [],
   "source": [
    "# Start a video capture, using device's camera\n",
    "webcam= cv.VideoCapture(0)\n",
    "\n",
    "stop = False\n",
    "while stop == False:\n",
    "    ret,frame = webcam.read()\n",
    "    \n",
    "    if ret == True:\n",
    "        cv.imshow('Pizza',frame)\n",
    "        key = cv.waitKey(1) \n",
    "        if key == ord(\"q\"):\n",
    "            stop = True\n",
    "webcam.release()\n",
    "cv.destroyAllWindows()"
   ]
  },
  {
   "cell_type": "code",
   "execution_count": 6,
   "id": "df242005-98ab-4c3b-8713-ce61375f7d99",
   "metadata": {},
   "outputs": [],
   "source": [
    "video_path = r\"C:\\Users\\Savita Seharawat\\Desktop\\COMP301\\COMP301 - M2020 - Lesson 1  - Part 1 - Course Intro and Setup.mp4\"\n",
    "video_path2 = r\"C:\\Users\\Savita Seharawat\\Desktop\\COMP301\\COMP301 - M2020 - Lesson 1 - Part 2 - Intro to Linux.mp4\""
   ]
  },
  {
   "cell_type": "code",
   "execution_count": 27,
   "id": "f2086f5c-8574-42a1-bb42-b1ef8574fd10",
   "metadata": {},
   "outputs": [],
   "source": [
    "# Start a video capture, using device's camera\n",
    "webcam= cv.VideoCapture(video_path)\n",
    "\n",
    "stop = False\n",
    "while stop == False:\n",
    "    ret,frame = webcam.read()\n",
    "    \n",
    "    if ret == True:\n",
    "        image = cv.resize(frame,(400,200))\n",
    "        cv.imshow('Pizza',image)\n",
    "        key = cv.waitKey(1) \n",
    "        if key == ord(\"q\"):\n",
    "            stop = True\n",
    "webcam.release()\n",
    "cv.destroyAllWindows()"
   ]
  },
  {
   "cell_type": "code",
   "execution_count": 31,
   "id": "7ee214e8-480b-4ad4-ad77-ad1401e848a1",
   "metadata": {},
   "outputs": [],
   "source": [
    "# Start a video capture, using device's camera\n",
    "webcam= cv.VideoCapture(video_path)\n",
    "\n",
    "stop = False\n",
    "while stop == False:\n",
    "    ret,frame = webcam.read()\n",
    "    \n",
    "    if ret == True:\n",
    "        image = cv.resize(frame,(200,200))\n",
    "        image_2 = np.hstack((image,image))\n",
    "        image_4 = np.vstack((image_2,image_2))\n",
    "        cv.imshow('image',image_4)\n",
    "        key = cv.waitKey(1) \n",
    "        if key == ord(\"q\"):\n",
    "            stop = True\n",
    "webcam.release()\n",
    "cv.destroyAllWindows()"
   ]
  },
  {
   "cell_type": "code",
   "execution_count": 36,
   "id": "feed3937-e408-4b10-a44c-e77d83870e0a",
   "metadata": {},
   "outputs": [],
   "source": [
    "# Start a video capture, using device's camera\n",
    "video_1= cv.VideoCapture(video_path)\n",
    "video_2 = cv.VideoCapture(video_path2)\n",
    "video_3 = cv.VideoCapture(0)\n",
    "\n",
    "\n",
    "stop = False\n",
    "while stop == False:\n",
    "    ret_1,frame_1 = video_1.read()\n",
    "    ret_2,frame_2 = video_2.read()\n",
    "    ret_3,frame_3 = video_3.read()\n",
    "    \n",
    "    \n",
    "    \n",
    "    if ret_1 == True & ret_2 == True & ret_3 == True  :\n",
    "        image_1 = cv.resize(frame_1,(200,200))\n",
    "        image_2 = cv.resize(frame_2,(200,200))\n",
    "        image_3 = cv.resize(frame_3,(200,200))\n",
    "        \n",
    "        \n",
    "        image_4 = np.hstack((image_1,image_2))\n",
    "        image_5 = np.hstack((image_3,image_3))\n",
    "        \n",
    "        image_6 = np.vstack((image_4,image_5))\n",
    "        cv.imshow('image',image_6)\n",
    "        key = cv.waitKey(1) \n",
    "        if key == ord(\"q\"):\n",
    "            stop = True\n",
    "video_1.release()\n",
    "video_2.release()\n",
    "video_3.release()\n",
    "cv.destroyAllWindows()"
   ]
  },
  {
   "cell_type": "markdown",
   "id": "11290891-d273-44ad-88f1-187ac980120c",
   "metadata": {
    "tags": []
   },
   "source": [
    "## Syntax of OpenCV cv2.imread() Method\n",
    "## Syntax: cv2.imread(filename, flag) \n",
    "\n",
    "## Parameters:\n",
    "\n",
    "## filename: The path to the image file.\n",
    "## flag: The flag specifies the way how the image should be read.\n",
    "## cv2.IMREAD_COLOR – It specifies to load a color image. Any transparency of image will be neglected. It is the default flag. Alternatively, we can pass integer value 1 for this flag.\n",
    "## cv2.IMREAD_GRAYSCALE – It specifies to load an image in grayscale mode. Alternatively, we can pass integer value 0 for this flag. \n",
    "## cv2.IMREAD_UNCHANGED – It specifies to load an image as such including alpha channel. Alternatively, we can pass integer value -1 for this flag.\n",
    "\n",
    "### Return Value: The cv2.imread() function return a NumPy array if the image is loaded successfully."
   ]
  },
  {
   "cell_type": "markdown",
   "id": "c4aa0b45-ebe2-4623-b4d7-8fbe2bb8f438",
   "metadata": {},
   "source": [
    "### Python OpenCV Read Image – cv2 imread()"
   ]
  },
  {
   "cell_type": "code",
   "execution_count": 47,
   "id": "f099b2e9-2221-48fd-a750-099e0a35b869",
   "metadata": {},
   "outputs": [
    {
     "name": "stdout",
     "output_type": "stream",
     "text": [
      "[[[214 223 232]\n",
      "  [214 223 232]\n",
      "  [214 223 232]\n",
      "  ...\n",
      "  [230 241 249]\n",
      "  [230 241 249]\n",
      "  [230 241 249]]\n",
      "\n",
      " [[214 223 232]\n",
      "  [214 223 232]\n",
      "  [214 223 232]\n",
      "  ...\n",
      "  [230 241 249]\n",
      "  [230 241 249]\n",
      "  [230 241 249]]\n",
      "\n",
      " [[214 223 232]\n",
      "  [214 223 232]\n",
      "  [214 223 232]\n",
      "  ...\n",
      "  [230 241 249]\n",
      "  [230 241 249]\n",
      "  [230 241 249]]\n",
      "\n",
      " ...\n",
      "\n",
      " [[218 233 242]\n",
      "  [200 215 224]\n",
      "  [192 207 216]\n",
      "  ...\n",
      "  [141 146 155]\n",
      "  [141 146 155]\n",
      "  [141 146 155]]\n",
      "\n",
      " [[195 210 219]\n",
      "  [188 203 212]\n",
      "  [191 206 215]\n",
      "  ...\n",
      "  [142 147 156]\n",
      "  [142 147 156]\n",
      "  [142 147 156]]\n",
      "\n",
      " [[170 185 194]\n",
      "  [191 206 215]\n",
      "  [206 221 230]\n",
      "  ...\n",
      "  [142 147 156]\n",
      "  [142 147 156]\n",
      "  [142 147 156]]]\n",
      "(168, 300, 3)\n"
     ]
    }
   ],
   "source": [
    "# Load the image\n",
    "image = cv.imread(r\"C:\\Users\\Savita Seharawat\\Desktop\\cvi620\\week 2\\gfg.jpeg\")\n",
    "\n",
    "# Display the image\n",
    "cv.imshow(\"Image\", image)\n",
    "print(image)\n",
    "print(image.shape)\n",
    "\n",
    "# Wait for the user to press a key\n",
    "cv.waitKey(0)\n",
    "\n",
    "# Close all windows\n",
    "cv.destroyAllWindows()"
   ]
  },
  {
   "cell_type": "markdown",
   "id": "67ac8bcd-c0ed-4ae2-b18c-22dca021b843",
   "metadata": {},
   "source": [
    "## Python OpenCV Read image grayscale\n",
    "## In this example, we are reading the image as a greyscale image. Both color and grayscale images are acceptable as input."
   ]
  },
  {
   "cell_type": "code",
   "execution_count": 48,
   "id": "b3fdb5d8-e25b-4690-837a-ca6239de5c1e",
   "metadata": {},
   "outputs": [
    {
     "name": "stdout",
     "output_type": "stream",
     "text": [
      "[[225 225 225 ... 242 242 242]\n",
      " [225 225 225 ... 242 242 242]\n",
      " [225 225 225 ... 242 242 242]\n",
      " ...\n",
      " [234 216 208 ... 148 148 148]\n",
      " [211 204 207 ... 149 149 149]\n",
      " [186 207 222 ... 149 149 149]]\n",
      "(168, 300)\n"
     ]
    }
   ],
   "source": [
    "# Load the image\n",
    "image = cv.imread(r\"C:\\Users\\Savita Seharawat\\Desktop\\cvi620\\week 2\\gfg.jpeg\",cv2.IMREAD_GRAYSCALE)\n",
    "\n",
    "# Display the image\n",
    "cv.imshow(\"Image\", image)\n",
    "print(image)\n",
    "print(image.shape)\n",
    "\n",
    "# Wait for the user to press a key\n",
    "cv.waitKey(0)\n",
    "\n",
    "# Close all windows\n",
    "cv.destroyAllWindows()"
   ]
  },
  {
   "cell_type": "markdown",
   "id": "e23e6853-36d7-4ce3-bb2f-0214539cce37",
   "metadata": {},
   "source": [
    "## Python OpenCV | Read PNG Image with Transparency\n",
    "## In this example, we are reading the image with the transparency channel."
   ]
  },
  {
   "cell_type": "code",
   "execution_count": 49,
   "id": "c80a5df6-4461-4113-864b-d2a6d671de4d",
   "metadata": {},
   "outputs": [],
   "source": [
    "# Load the image\n",
    "image = cv.imread(r\"C:\\Users\\Savita Seharawat\\Desktop\\cvi620\\week 2\\gfg.jpeg\",cv2.IMREAD_UNCHANGED)\n",
    "\n",
    "# Display the image\n",
    "cv.imshow(\"Image\", image)\n",
    "\n",
    "# Wait for the user to press a key\n",
    "cv.waitKey(0)\n",
    "\n",
    "# Close all windows\n",
    "cv.destroyAllWindows()"
   ]
  },
  {
   "cell_type": "markdown",
   "id": "63548f10-402f-4897-a011-a79ee0543624",
   "metadata": {},
   "source": [
    "## imread() and Color Channels\n",
    "### A NumPy array is produced after reading an image file with the cv2.imread() method. \n",
    "### By default, the image is saved in the BGR color space. \n",
    "### As a result, the blue, green, and red color channels, respectively, correspond to the first three channels of the NumPy array."
   ]
  },
  {
   "cell_type": "code",
   "execution_count": 43,
   "id": "81caa3b7-cde7-4a69-9a1f-5468a256323c",
   "metadata": {},
   "outputs": [],
   "source": [
    "r1 = image[:,:,0] # get blue channel\n",
    "g1 = image[:,:,1] # get green channel\n",
    "b1 = image[:,:,2] # get red channel"
   ]
  },
  {
   "cell_type": "code",
   "execution_count": 44,
   "id": "cafcc4ae-a7a1-47a7-adfe-0a03186a6ab4",
   "metadata": {},
   "outputs": [
    {
     "data": {
      "text/plain": [
       "array([[214, 214, 214, ..., 230, 230, 230],\n",
       "       [214, 214, 214, ..., 230, 230, 230],\n",
       "       [214, 214, 214, ..., 230, 230, 230],\n",
       "       ...,\n",
       "       [218, 200, 192, ..., 141, 141, 141],\n",
       "       [195, 188, 191, ..., 142, 142, 142],\n",
       "       [170, 191, 206, ..., 142, 142, 142]], dtype=uint8)"
      ]
     },
     "execution_count": 44,
     "metadata": {},
     "output_type": "execute_result"
    }
   ],
   "source": [
    "r1"
   ]
  },
  {
   "cell_type": "markdown",
   "id": "dfaafe84-4503-4ef3-b169-9b77326d4c2e",
   "metadata": {},
   "source": [
    "### OpenCV library has powerful function named as cv2.imshow(). Which shows the NumPy array in the form of an Image.\n",
    "### \n",
    "### cv2.imshow() function takes any size of NumPy array and shows the image in the same size in the window. If the image resolution is more than a system screen resolution then it shows only those pixel which fits in the screen.\n",
    "\n",
    "### Ex: Image resolution is (2000,1000) (widht, height) and screen resolution is (1000,500). Then cv2.imshow() function shows only (1000,500) pixels of image not all. To solve this problem you can resize your image then show using cv2.imsho() function.\n",
    "### \n",
    "### Syntax: cv2.imshow( windows_name, numpy_array)\n",
    "### windows_name: string value\n",
    "### numpy_array: 2d or 3d NumPy array"
   ]
  },
  {
   "cell_type": "code",
   "execution_count": 54,
   "id": "484d0dcc-b67f-4cca-aaea-29d6b8be93ed",
   "metadata": {},
   "outputs": [
    {
     "name": "stdout",
     "output_type": "stream",
     "text": [
      "[[0. 0. 0. ... 0. 0. 0.]\n",
      " [0. 0. 0. ... 0. 0. 0.]\n",
      " [0. 0. 0. ... 0. 0. 0.]\n",
      " ...\n",
      " [0. 0. 0. ... 0. 0. 0.]\n",
      " [0. 0. 0. ... 0. 0. 0.]\n",
      " [0. 0. 0. ... 0. 0. 0.]]\n",
      "(200, 200)\n"
     ]
    }
   ],
   "source": [
    "import cv2\n",
    "import numpy as np\n",
    " \n",
    "matrix = np.zeros((200,200)) # numpy array with width =200, height=200\n",
    "print(matrix)\n",
    "print(matrix.shape)\n",
    " \n",
    "cv2.imshow(\"Zeros matrix\", matrix) # show numpy array\n",
    " \n",
    "cv2.waitKey(0) # wait for ay key to exit window\n",
    "cv2.destroyAllWindows() # close all windows"
   ]
  },
  {
   "cell_type": "code",
   "execution_count": 55,
   "id": "76a1110a-c59e-45dd-a8fe-288fc8bdf1dd",
   "metadata": {},
   "outputs": [],
   "source": [
    "# Load the image\n",
    "image = cv.imread(r\"C:\\Users\\Savita Seharawat\\Desktop\\cvi620\\week 2\\gfg.jpeg\",cv2.IMREAD_UNCHANGED)\n",
    "\n",
    "# Display the image\n",
    "cv.imshow(\"Image\", image)\n",
    "\n",
    "# Wait for the user to press a key\n",
    "cv.waitKey(0)\n",
    "\n",
    "# Close all windows\n",
    "cv.destroyAllWindows()"
   ]
  },
  {
   "cell_type": "markdown",
   "id": "ec2a9e05-8b12-44ce-9092-6d40098ab037",
   "metadata": {},
   "source": [
    "### Show same image in multiple windows"
   ]
  },
  {
   "cell_type": "code",
   "execution_count": 57,
   "id": "95dccfa5-c432-42f4-bbe9-53ba4c5b7168",
   "metadata": {},
   "outputs": [],
   "source": [
    "# Load the image\n",
    "image = cv.imread(r\"C:\\Users\\Savita Seharawat\\Desktop\\cvi620\\week 2\\gfg.jpeg\",cv2.IMREAD_UNCHANGED)\n",
    "\n",
    "# Display the image\n",
    "cv.imshow(\"Image1\", image)\n",
    "cv.imshow(\"Image2\", image)\n",
    "\n",
    "# Wait for the user to press a key\n",
    "cv.waitKey(0)\n",
    "\n",
    "# Close all windows\n",
    "cv.destroyAllWindows()"
   ]
  },
  {
   "cell_type": "markdown",
   "id": "78a6125b-5dd3-4dd0-ac40-8904a29fa932",
   "metadata": {},
   "source": [
    "## How to save image or NumPy array as image\n",
    "## Save Numpy Array"
   ]
  },
  {
   "cell_type": "code",
   "execution_count": 9,
   "id": "0c4ad99b-9179-433e-88ba-b7ee2529e008",
   "metadata": {},
   "outputs": [],
   "source": [
    "#For detail Explanation watch prime video: video link >>> https://youtu.be/6VqbeozUgWQ\n",
    " \n",
    "import cv2 as cv\n",
    "import numpy as np\n",
    "import os\n",
    " \n",
    "rand_array = np.random.randint(255, size = (300,600,3))\n",
    " \n",
    "cv2.imwrite(\"rand_np_array.png\", rand_array) # imwrite(filename, img[, params])\n",
    " \n",
    "img = cv2.imread(\"rand_np_array.png\")\n",
    "cv2.imshow('image', img)\n",
    " \n",
    "cv2.waitKey(0)\n",
    "cv2.destroyAllWindows()"
   ]
  },
  {
   "cell_type": "markdown",
   "id": "2ef5836e-6d0a-49cc-b9eb-459da1c66fe9",
   "metadata": {},
   "source": [
    "## Save Image"
   ]
  },
  {
   "cell_type": "code",
   "execution_count": 59,
   "id": "1072b770-80ae-4d4d-b37e-1e26beabd6ea",
   "metadata": {},
   "outputs": [],
   "source": [
    "\n",
    "img_path = r'C:\\\\Users\\\\Savita Seharawat\\\\Desktop\\\\fulhaus\\\\Pizza.jpg'\n",
    " \n",
    "img = cv2.imread(img_path)\n",
    "cv2.imshow('image', img)\n",
    " \n",
    "cv2.imwrite(\"model_write.png\", img)\n",
    " \n",
    "cv2.waitKey(0)\n",
    "cv2.destroyAllWindows()"
   ]
  },
  {
   "cell_type": "code",
   "execution_count": 14,
   "id": "4dcc0aac-c646-4dab-86cb-5618e47581b6",
   "metadata": {},
   "outputs": [],
   "source": [
    "#os.mkdir(\"video_to_image_1\") # create directory\n",
    "# Start a video capture, using device's camera\n",
    "webcam= cv.VideoCapture(video_path)\n",
    " \n",
    "img_count = 1\n",
    "stop = False\n",
    "while stop == False:\n",
    "    ret,frame = webcam.read()\n",
    "    \n",
    "    is_img_write = cv.imwrite(f\"video_to_image_1\\image{img_count}.jpeg\", frame)\n",
    "    \n",
    "    if ret == True:\n",
    "        image = cv.resize(frame,(400,200))\n",
    "        cv.imshow('Pizza',image)\n",
    "        key = cv.waitKey(1) \n",
    "        img_count += 1\n",
    "        if key == ord(\"q\"):\n",
    "            stop = True\n",
    "webcam.release()\n",
    "cv.destroyAllWindows()"
   ]
  }
 ],
 "metadata": {
  "kernelspec": {
   "display_name": "Python 3 (ipykernel)",
   "language": "python",
   "name": "python3"
  },
  "language_info": {
   "codemirror_mode": {
    "name": "ipython",
    "version": 3
   },
   "file_extension": ".py",
   "mimetype": "text/x-python",
   "name": "python",
   "nbconvert_exporter": "python",
   "pygments_lexer": "ipython3",
   "version": "3.9.13"
  }
 },
 "nbformat": 4,
 "nbformat_minor": 5
}
